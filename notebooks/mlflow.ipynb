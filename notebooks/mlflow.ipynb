{
 "cells": [
  {
   "cell_type": "code",
   "execution_count": 33,
   "id": "7828232f-b853-493f-9927-857c7e21fd97",
   "metadata": {
    "tags": []
   },
   "outputs": [],
   "source": [
    "import mlflow\n",
    "from datetime import datetime\n",
    "from pathlib import Path\n",
    "import time\n",
    "\n",
    "from mlflow import MlflowClient\n",
    "from mlflow.entities import Metric, Param, RunTag\n",
    "from mlflow.utils.mlflow_tags import MLFLOW_PARENT_RUN_ID\n",
    "\n",
    "import yaml\n"
   ]
  },
  {
   "cell_type": "code",
   "execution_count": 45,
   "id": "6031a078-1259-440e-93ed-3f7107cb409c",
   "metadata": {
    "tags": []
   },
   "outputs": [],
   "source": [
    "with open('log.txt') as f:\n",
    "    train_log = f.read()\n",
    "with open('log2.txt') as f:\n",
    "    clean_log = f.read()"
   ]
  },
  {
   "cell_type": "code",
   "execution_count": 37,
   "id": "849beef9-2c6a-4b1a-b361-edb0784dd8ee",
   "metadata": {
    "tags": []
   },
   "outputs": [],
   "source": [
    "with open('config.yaml') as f:\n",
    "    config = yaml.safe_load(f)"
   ]
  },
  {
   "cell_type": "code",
   "execution_count": 38,
   "id": "b6e3d5ac-7ed3-4674-973e-827b3cedc95a",
   "metadata": {
    "tags": []
   },
   "outputs": [
    {
     "data": {
      "text/plain": [
       "{'experiment': {'name': 'prod',\n",
       "  'src': 'ru',\n",
       "  'trg': 'en',\n",
       "  'teacher-ensemble': 2,\n",
       "  'backward-model': '',\n",
       "  'vocab': '',\n",
       "  'mono-max-sentences-src': 100000000,\n",
       "  'mono-max-sentences-trg': 20000000,\n",
       "  'split-length': 2000000,\n",
       "  'spm-sample-size': 10000000,\n",
       "  'best-model': 'chrf',\n",
       "  'bicleaner': {'default-threshold': 0.5,\n",
       "   'dataset-thresholds': {'opus_CCAligned/v1': 0.7,\n",
       "    'opus_OpenSubtitles/v2018': 0.8,\n",
       "    'opus_bible-uedin/v1': 0.7,\n",
       "    'mtdata_Statmt-wiki_titles-1-rus-eng': 0.7,\n",
       "    'mtdata_Facebook-wikimatrix-1-eng-rus': 0.7,\n",
       "    'mtdata_Statmt-wiki_titles-2-rus-eng': 0.7,\n",
       "    'mtdata_Statmt-commoncrawl_wmt13-1-rus-eng': 0.7,\n",
       "    'opus_ParaCrawl/v8': 0}}},\n",
       " 'marian-args': {'training-backward': {'after': '10e'},\n",
       "  'training-teacher-base': {'after': '2e'},\n",
       "  'decoding-backward': {'mini-batch-words': 2000, 'beam-size': 12},\n",
       "  'decoding-teacher': {'mini-batch-words': 1000, 'precision': 'float16'}},\n",
       " 'datasets': {'train': ['opus_ada83/v1',\n",
       "   'opus_UN/v20090831',\n",
       "   'opus_GNOME/v1',\n",
       "   'opus_wikimedia/v20210402',\n",
       "   'opus_CCMatrix/v1',\n",
       "   'opus_Wikipedia/v1.0',\n",
       "   'opus_tico-19/v2020-10-28',\n",
       "   'opus_KDE4/v2',\n",
       "   'opus_OpenSubtitles/v2018',\n",
       "   'opus_MultiUN/v1',\n",
       "   'opus_GlobalVoices/v2018q4',\n",
       "   'opus_ELRC_2922/v1',\n",
       "   'opus_PHP/v1',\n",
       "   'opus_Tatoeba/v2021-03-10',\n",
       "   'opus_Tanzil/v1',\n",
       "   'opus_XLEnt/v1.1',\n",
       "   'opus_TildeMODEL/v2018',\n",
       "   'opus_Ubuntu/v14.10',\n",
       "   'opus_TED2013/v1.1',\n",
       "   'opus_infopankki/v1',\n",
       "   'opus_EUbookshop/v2',\n",
       "   'opus_ParaCrawl/v8',\n",
       "   'opus_Books/v1',\n",
       "   'opus_bible-uedin/v1',\n",
       "   'opus_QED/v2.0a',\n",
       "   'opus_CCAligned/v1',\n",
       "   'opus_TED2020/v1',\n",
       "   'opus_News-Commentary/v16',\n",
       "   'opus_UNPC/v1.0',\n",
       "   'mtdata_Statmt-news_commentary-15-eng-rus',\n",
       "   'mtdata_Neulab-tedtalks_train-1-eng-rus',\n",
       "   'mtdata_ELRC-wikipedia_health-1-eng-rus',\n",
       "   'mtdata_ParaCrawl-paracrawl-1_bonus-eng-rus',\n",
       "   'mtdata_Statmt-news_commentary_wmt18-13-rus-eng',\n",
       "   'mtdata_Tilde-worldbank-1-eng-rus',\n",
       "   'mtdata_Statmt-news_commentary-16-eng-rus',\n",
       "   'mtdata_UN-un_test-1-eng-rus',\n",
       "   'mtdata_Statmt-wiki_titles-1-rus-eng',\n",
       "   'mtdata_Statmt-paracrawl-8.wmt21-eng-rus',\n",
       "   'mtdata_LinguaTools-wikititles-2014-eng-rus',\n",
       "   'mtdata_Tilde-airbaltic-1-eng-rus',\n",
       "   'mtdata_Statmt-wiki_titles-2-rus-eng',\n",
       "   'mtdata_Neulab-tedtalks_dev-1-eng-rus',\n",
       "   'mtdata_Statmt-news_commentary-14-eng-rus',\n",
       "   'mtdata_Statmt-commoncrawl_wmt13-1-rus-eng',\n",
       "   'mtdata_Tilde-czechtourism-1-eng-rus',\n",
       "   'mtdata_Facebook-wikimatrix-1-eng-rus',\n",
       "   'mtdata_Neulab-tedtalks_test-1-eng-rus',\n",
       "   'mtdata_Statmt-wikititles-3-rus-eng'],\n",
       "  'devtest': ['flores_dev',\n",
       "   'sacrebleu_wmt19',\n",
       "   'sacrebleu_wmt17',\n",
       "   'sacrebleu_wmt15',\n",
       "   'sacrebleu_wmt14'],\n",
       "  'test': ['flores_devtest',\n",
       "   'sacrebleu_wmt20',\n",
       "   'sacrebleu_wmt18',\n",
       "   'sacrebleu_wmt16',\n",
       "   'sacrebleu_wmt13'],\n",
       "  'mono-src': ['news-crawl_news.2020',\n",
       "   'news-crawl_news.2019',\n",
       "   'news-crawl_news.2018',\n",
       "   'news-crawl_news.2017',\n",
       "   'news-crawl_news.2016',\n",
       "   'news-crawl_news.2015',\n",
       "   'news-crawl_news.2014',\n",
       "   'news-crawl_news.2013',\n",
       "   'news-crawl_news.2012',\n",
       "   'news-crawl_news.2011'],\n",
       "  'mono-trg': ['news-crawl_news.2020',\n",
       "   'news-crawl_news.2019',\n",
       "   'news-crawl_news.2018',\n",
       "   'news-crawl_news.2017',\n",
       "   'news-crawl_news.2016',\n",
       "   'news-crawl_news.2015']}}"
      ]
     },
     "execution_count": 38,
     "metadata": {},
     "output_type": "execute_result"
    }
   ],
   "source": [
    "config"
   ]
  },
  {
   "cell_type": "code",
   "execution_count": 39,
   "id": "a3481c83-0088-4c4e-92b2-82e96aee7c65",
   "metadata": {
    "tags": []
   },
   "outputs": [],
   "source": [
    "client = MlflowClient()"
   ]
  },
  {
   "cell_type": "code",
   "execution_count": null,
   "id": "c292b654-f955-423f-a587-b44836083599",
   "metadata": {
    "tags": []
   },
   "outputs": [],
   "source": [
    "experiment_id = client.create_experiment(\n",
    "    \"fr-en/bicleaner\",\n",
    "    artifact_location=Path.cwd().joinpath(\"mlruns5\").as_uri(),\n",
    "    tags={\"version\": \"v1\", \"priority\": \"P1\"},\n",
    ")\n",
    "client.set_experiment_tag(experiment_id, \"testing\", \"quality\")"
   ]
  },
  {
   "cell_type": "code",
   "execution_count": 43,
   "id": "ac470448-7010-4700-a03e-def50f6fc30a",
   "metadata": {
    "tags": []
   },
   "outputs": [],
   "source": [
    "parent_run = client.create_run(experiment_id,  \n",
    "                        run_name=\"tc-run-2023-05-15-0800\", \n",
    "                        start_time=int(datetime.utcnow().timestamp()))\n"
   ]
  },
  {
   "cell_type": "code",
   "execution_count": 47,
   "id": "4a2e7601-582b-439f-867d-5ef6ae8c7ed1",
   "metadata": {
    "tags": []
   },
   "outputs": [],
   "source": [
    "from collections.abc import MutableMapping\n",
    "\n",
    "def flatten(dictionary, parent_key='', separator='_'):\n",
    "    items = []\n",
    "    for key, value in dictionary.items():\n",
    "        new_key = parent_key + separator + key if parent_key else key\n",
    "        if isinstance(value, MutableMapping):\n",
    "            items.extend(flatten(value, new_key, separator=separator).items())\n",
    "        else:\n",
    "            items.append((new_key, value))\n",
    "    return dict(items)"
   ]
  },
  {
   "cell_type": "code",
   "execution_count": null,
   "id": "ad77896c-45af-49bd-a9aa-6533da79addf",
   "metadata": {
    "tags": []
   },
   "outputs": [],
   "source": [
    "flatten_config = flatten(config)\n",
    "flatten_config"
   ]
  },
  {
   "cell_type": "code",
   "execution_count": 53,
   "id": "45c2fbd8-a912-44ad-bcee-673066fee255",
   "metadata": {
    "tags": []
   },
   "outputs": [],
   "source": [
    "params = [Param(k,str(v)) for k,v in flatten_config.items() if 'datasets' not in k]\n",
    "client.log_batch(parent_run.info.run_id, params=params)\n",
    "client.log_artifact(parent_run.info.run_id, 'config.yaml')"
   ]
  },
  {
   "cell_type": "code",
   "execution_count": 112,
   "id": "1db696b1-0c2b-4e54-8035-9596a28b2ae2",
   "metadata": {
    "tags": []
   },
   "outputs": [],
   "source": [
    "clean_corpus_run = client.create_run(experiment_id, \n",
    "                                 tags={MLFLOW_PARENT_RUN_ID: parent_run.info.run_id}, \n",
    "                                 run_name=\"clean-corpus-OPUS_Books-v1\", \n",
    "                                 start_time=int(datetime.utcnow().timestamp()))\n"
   ]
  },
  {
   "cell_type": "code",
   "execution_count": 113,
   "id": "bc4c4e83-8a0b-46d7-9428-910b236291a5",
   "metadata": {
    "tags": []
   },
   "outputs": [],
   "source": [
    "client.log_text(clean_corpus_run.info.run_id, clean_log, 'clean-corpus.txt')\n",
    "params = [Param('src_corpus', '/data/ru-en/src_corpus.gz'), Param('trg_corpus', '/data/ru-en/src_corpus.gz')]\n",
    "client.log_batch(clean_corpus_run.info.run_id, params=params)\n"
   ]
  },
  {
   "cell_type": "code",
   "execution_count": null,
   "id": "a86eb5ad-cc2c-45b4-a686-50c3408daa57",
   "metadata": {},
   "outputs": [],
   "source": [
    "client.log_inputs(clean_corpus_run.info.run_id"
   ]
  },
  {
   "cell_type": "code",
   "execution_count": 111,
   "id": "a557db41-1ffb-47b8-8ccb-9a450ee19f42",
   "metadata": {
    "tags": []
   },
   "outputs": [],
   "source": [
    "client.set_terminated(clean_corpus_run.info.run_id)"
   ]
  },
  {
   "cell_type": "code",
   "execution_count": 109,
   "id": "28cb6858-2329-4a97-b7a3-3dc7a4bdcfb4",
   "metadata": {
    "tags": []
   },
   "outputs": [],
   "source": [
    "training_run = client.create_run(experiment_id, \n",
    "                                 tags={MLFLOW_PARENT_RUN_ID: parent_run.info.run_id}, \n",
    "                                 run_name=\"train-student\", \n",
    "                                 start_time=int(datetime.utcnow().timestamp()))"
   ]
  },
  {
   "cell_type": "code",
   "execution_count": 63,
   "id": "c9e8dcb7-2b32-4b40-bf3a-ff9abedc853a",
   "metadata": {
    "tags": []
   },
   "outputs": [],
   "source": [
    "import re"
   ]
  },
  {
   "cell_type": "code",
   "execution_count": 99,
   "id": "00b832d6-f688-4576-a647-f22eefc2bfe5",
   "metadata": {
    "tags": []
   },
   "outputs": [],
   "source": [
    "lines = [l for l in train_log.split('\\n') if '[config]' in l]\n",
    "training_config_lines = [str(re.search(r'.*\\[config\\]\\s(.*)', l, re.IGNORECASE).group(1))\n",
    "                            for l in lines]\n",
    "\n"
   ]
  },
  {
   "cell_type": "code",
   "execution_count": 102,
   "id": "42776a4b-f6a8-44ae-9225-204151dd8ab5",
   "metadata": {
    "tags": []
   },
   "outputs": [],
   "source": [
    "with open('training_config.yaml', 'w') as f:\n",
    "    f.writelines('\\n'.join(training_config_lines) + '\\n')"
   ]
  },
  {
   "cell_type": "code",
   "execution_count": 103,
   "id": "e61ef333-2176-403c-ba78-5d0a4b87398a",
   "metadata": {
    "tags": []
   },
   "outputs": [],
   "source": [
    "with open('training_config.yaml', 'r') as f:\n",
    "    training_config = yaml.safe_load(f)"
   ]
  },
  {
   "cell_type": "code",
   "execution_count": null,
   "id": "28eb71e0-f5e7-4248-91be-61430968b461",
   "metadata": {
    "tags": []
   },
   "outputs": [],
   "source": [
    "training_config"
   ]
  },
  {
   "cell_type": "code",
   "execution_count": 110,
   "id": "a6473a6f-5203-4690-81a7-feadc7af99c9",
   "metadata": {
    "tags": []
   },
   "outputs": [],
   "source": [
    "\n",
    "\n",
    "# Create MLflow entities and a run under the default experiment (whose id is '0').\n",
    "timestamp = int(time.time() * 1000)\n",
    "metrics = [Metric(\"train-BLEU\", 0.5, timestamp+5000, 0),\n",
    "          Metric(\"train-BLEU\", 5.5, timestamp+10000, 1),\n",
    "          Metric(\"train-BLEU\", 10.5, timestamp+20000, 2),\n",
    "          Metric(\"train-BLEU\", 20.5, timestamp+30000, 3),\n",
    "          Metric(\"train-BLEU\", 27.5, timestamp+35000, 4),\n",
    "          Metric(\"valid-BLEU\", 0.5, timestamp+5000, 0),\n",
    "          Metric(\"valid-BLEU\", 9.5, timestamp+10000, 1),\n",
    "          Metric(\"valid-BLEU\", 14.5, timestamp+20000, 2),\n",
    "          Metric(\"valid-BLEU\", 20.5, timestamp+30000, 3),\n",
    "          Metric(\"valid-BLEU\", 25.5, timestamp+35000, 4),\n",
    "          \n",
    "          ]\n",
    "\n",
    "params = [Param(k,str(v)) for k,v in training_config.items()]\n",
    "tags = [RunTag(\"train\", \"small\")]\n",
    "\n",
    "# Log entities, terminate the run, and fetch run status\n",
    "client.log_batch(training_run.info.run_id, metrics=metrics, params=params, tags=tags)\n",
    "client.log_artifact(training_run.info.run_id, 'log.txt')\n",
    "client.log_artifact(training_run.info.run_id, 'training_config.yaml')\n",
    "client.set_terminated(training_run.info.run_id)\n"
   ]
  },
  {
   "cell_type": "code",
   "execution_count": 27,
   "id": "ca2d2489-d607-4731-b2d5-0b47f52d2f64",
   "metadata": {
    "tags": []
   },
   "outputs": [],
   "source": [
    "parent_run = run"
   ]
  },
  {
   "cell_type": "code",
   "execution_count": 30,
   "id": "ecc183c0-37cd-43a6-817c-156600b8e2c2",
   "metadata": {
    "tags": []
   },
   "outputs": [],
   "source": []
  },
  {
   "cell_type": "code",
   "execution_count": null,
   "id": "13071acb-81ee-41dc-9d8b-3bc2ea4f90f4",
   "metadata": {},
   "outputs": [],
   "source": []
  },
  {
   "cell_type": "code",
   "execution_count": 10,
   "id": "1f55a539-b95a-4112-b37e-0d9f0131726d",
   "metadata": {
    "tags": []
   },
   "outputs": [
    {
     "data": {
      "text/plain": [
       "'[task 2023'"
      ]
     },
     "execution_count": 10,
     "metadata": {},
     "output_type": "execute_result"
    }
   ],
   "source": [
    "\n",
    "log[:10]"
   ]
  },
  {
   "cell_type": "code",
   "execution_count": null,
   "id": "df7d5a62-abc4-4a5f-b82e-f8d8af83f7dd",
   "metadata": {},
   "outputs": [],
   "source": []
  },
  {
   "cell_type": "code",
   "execution_count": 31,
   "id": "22ec391d-bb47-462d-88cb-9d998263aaa9",
   "metadata": {
    "tags": []
   },
   "outputs": [
    {
     "name": "stdout",
     "output_type": "stream",
     "text": [
      "run_id: 60828a8df95c4967802ef08111eec290\n",
      "params: {'after': '600e', 'after-batches': '0'}\n",
      "metrics: {'train-BLEU': 31.5, 'valid-BLEU': 30.5}\n",
      "tags: {'mlflow.parentRunId': 'd404bfd448c047d58875d79dc1ece59c', 'mlflow.runName': 'child-run1', 'train': 'big'}\n",
      "status: FINISHED\n"
     ]
    }
   ],
   "source": [
    "\n",
    "def print_run_info(r):\n",
    "    print(\"run_id: {}\".format(r.info.run_id))\n",
    "    print(\"params: {}\".format(r.data.params))\n",
    "    print(\"metrics: {}\".format(r.data.metrics))\n",
    "    print(\"tags: {}\".format(r.data.tags))\n",
    "    print(\"status: {}\".format(r.info.status))\n",
    "\n",
    "\n",
    "# Create MLflow entities and a run under the default experiment (whose id is '0').\n",
    "timestamp = int(time.time() * 1000)\n",
    "metrics = [Metric(\"train-BLEU\", 0.5, timestamp+5000, 0),\n",
    "          Metric(\"train-BLEU\", 10.5, timestamp+10000, 1),\n",
    "          Metric(\"train-BLEU\", 15.5, timestamp+20000, 2),\n",
    "          Metric(\"train-BLEU\", 25.5, timestamp+30000, 3),\n",
    "          Metric(\"train-BLEU\", 31.5, timestamp+35000, 4),\n",
    "          Metric(\"valid-BLEU\", 0.5, timestamp+5000, 0),\n",
    "          Metric(\"valid-BLEU\", 10.5, timestamp+10000, 1),\n",
    "          Metric(\"valid-BLEU\", 15.5, timestamp+20000, 2),\n",
    "          Metric(\"valid-BLEU\", 27.5, timestamp+30000, 3),\n",
    "          Metric(\"valid-BLEU\", 30.5, timestamp+35000, 4),\n",
    "          \n",
    "          ]\n",
    "\n",
    "params = [Param(\"after\", \"600e\"), Param('after-batches', '0')]\n",
    "tags = [RunTag(\"train\", \"big\")]\n",
    "\n",
    "# Log entities, terminate the run, and fetch run status\n",
    "client.log_batch(run.info.run_id, metrics=metrics, params=params, tags=tags)\n",
    "client.log_text(run.info.run_id, log, 'training-log12345.txt')\n",
    "client.set_terminated(run.info.run_id)\n",
    "run = client.get_run(run.info.run_id)\n",
    "print_run_info(run)\n"
   ]
  },
  {
   "cell_type": "code",
   "execution_count": null,
   "id": "0af7f13b-99c2-4b24-a8ba-604fd1b4b98a",
   "metadata": {},
   "outputs": [],
   "source": [
    "run2 = client.create_run(experiment_id, name='nested', nested=True)"
   ]
  },
  {
   "cell_type": "code",
   "execution_count": 19,
   "id": "4007e3a9-8b2c-4a29-9e44-45d09b909d73",
   "metadata": {
    "tags": []
   },
   "outputs": [
    {
     "data": {
      "text/plain": [
       "<Run: data=<RunData: metrics={'m': 1.5}, params={'p': 'p'}, tags={'mlflow.runName': 'main',\n",
       " 'mlflow.source.name': '/Users/epavlov/opt/anaconda3/envs/mlflow/lib/python3.9/site-packages/ipykernel_launcher.py',\n",
       " 'mlflow.source.type': 'LOCAL',\n",
       " 'mlflow.user': 'epavlov',\n",
       " 't': 't'}>, info=<RunInfo: artifact_uri='mlflow-artifacts:/0/d266a8f8c3984b9fa693f7203c99a266/artifacts', end_time=1693354052147, experiment_id='0', lifecycle_stage='active', run_id='d266a8f8c3984b9fa693f7203c99a266', run_name='main', run_uuid='d266a8f8c3984b9fa693f7203c99a266', start_time=1693354052113, status='FINISHED', user_id='epavlov'>, inputs=<RunInputs: dataset_inputs=[]>>"
      ]
     },
     "execution_count": 19,
     "metadata": {},
     "output_type": "execute_result"
    }
   ],
   "source": [
    "parent_run"
   ]
  },
  {
   "cell_type": "code",
   "execution_count": 20,
   "id": "0bf49037-3889-472b-968f-86c4dc024c28",
   "metadata": {
    "tags": []
   },
   "outputs": [
    {
     "data": {
      "text/plain": [
       "<ActiveRun: >"
      ]
     },
     "execution_count": 20,
     "metadata": {},
     "output_type": "execute_result"
    }
   ],
   "source": [
    "child_run"
   ]
  },
  {
   "cell_type": "code",
   "execution_count": 15,
   "id": "561376dc-cf9a-4952-bb93-01fdd1826798",
   "metadata": {
    "tags": []
   },
   "outputs": [],
   "source": [
    "from aimlflow.utils import convert_existing_logs\n",
    "from aim.sdk.utils import clean_repo_path\n",
    "from aim.sdk.repo import Repo"
   ]
  },
  {
   "cell_type": "code",
   "execution_count": 17,
   "id": "a7600f1b-d014-4bbf-9c24-b323deb55db9",
   "metadata": {
    "tags": []
   },
   "outputs": [
    {
     "name": "stderr",
     "output_type": "stream",
     "text": [
      "WARNING:root:Malformed experiment '9a6a3a8923204b259843ee0371804ca8'. Detailed error Yaml file 'mlruns3/9a6a3a8923204b259843ee0371804ca8/meta.yaml' does not exist.\n",
      "Traceback (most recent call last):\n",
      "  File \"/Users/epavlov/opt/anaconda3/envs/mlflow/lib/python3.9/site-packages/mlflow/store/tracking/file_store.py\", line 304, in search_experiments\n",
      "    exp = self._get_experiment(exp_id, view_type)\n",
      "  File \"/Users/epavlov/opt/anaconda3/envs/mlflow/lib/python3.9/site-packages/mlflow/store/tracking/file_store.py\", line 397, in _get_experiment\n",
      "    meta = FileStore._read_yaml(experiment_dir, FileStore.META_DATA_FILE_NAME)\n",
      "  File \"/Users/epavlov/opt/anaconda3/envs/mlflow/lib/python3.9/site-packages/mlflow/store/tracking/file_store.py\", line 1306, in _read_yaml\n",
      "    return _read_helper(root, file_name, attempts_remaining=retries)\n",
      "  File \"/Users/epavlov/opt/anaconda3/envs/mlflow/lib/python3.9/site-packages/mlflow/store/tracking/file_store.py\", line 1299, in _read_helper\n",
      "    result = read_yaml(root, file_name)\n",
      "  File \"/Users/epavlov/opt/anaconda3/envs/mlflow/lib/python3.9/site-packages/mlflow/utils/file_utils.py\", line 282, in read_yaml\n",
      "    raise MissingConfigException(f\"Yaml file '{file_path}' does not exist.\")\n",
      "mlflow.exceptions.MissingConfigException: Yaml file 'mlruns3/9a6a3a8923204b259843ee0371804ca8/meta.yaml' does not exist.\n",
      "Parsing mlflow experiments in mlruns3: 0it [00:00, ?it/s]\n"
     ]
    }
   ],
   "source": [
    "repo_path = clean_repo_path('aim-repo2')\n",
    "repo_inst = Repo.from_path(repo_path)\n",
    "convert_existing_logs(repo_inst, tracking_uri='mlruns3')"
   ]
  },
  {
   "cell_type": "code",
   "execution_count": null,
   "id": "0881f5a7-14b0-4a6e-b840-db0c9ba6fb68",
   "metadata": {},
   "outputs": [],
   "source": []
  }
 ],
 "metadata": {
  "kernelspec": {
   "display_name": "Python 3 (ipykernel)",
   "language": "python",
   "name": "python3"
  },
  "language_info": {
   "codemirror_mode": {
    "name": "ipython",
    "version": 3
   },
   "file_extension": ".py",
   "mimetype": "text/x-python",
   "name": "python",
   "nbconvert_exporter": "python",
   "pygments_lexer": "ipython3",
   "version": "3.8.17"
  }
 },
 "nbformat": 4,
 "nbformat_minor": 5
}
